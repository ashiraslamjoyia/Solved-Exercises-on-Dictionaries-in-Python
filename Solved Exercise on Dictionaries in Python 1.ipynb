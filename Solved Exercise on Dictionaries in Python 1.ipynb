{
 "cells": [
  {
   "cell_type": "markdown",
   "id": "2e3f8cbf",
   "metadata": {},
   "source": [
    "# Solved Exercise on Dictionaries in Python"
   ]
  },
  {
   "cell_type": "code",
   "execution_count": 2,
   "id": "98413607",
   "metadata": {},
   "outputs": [
    {
     "name": "stdout",
     "output_type": "stream",
     "text": [
      "{'name': 'Ali', 'age': '21', 'city': 'Lahore', 'hobbies': 'Eating'}\n"
     ]
    }
   ],
   "source": [
    "#Create a dictionary to store information about a person (name, age, city, hobbies)\n",
    "\n",
    "person = {'name':'Ali','age':'21','city':'Lahore','hobbies':'Eating'}\n",
    "print(person)"
   ]
  },
  {
   "cell_type": "code",
   "execution_count": 13,
   "id": "2124e3c9",
   "metadata": {},
   "outputs": [
    {
     "name": "stdout",
     "output_type": "stream",
     "text": [
      "{'hi!': 1, \"i'm\": 2, 'ali': 2, ',': 1, 'abubakr.': 1, 'working': 1, 'on': 1, 'dictionaries': 2, 'right': 1, 'now.': 1, 'are': 1, 'interesting': 1}\n"
     ]
    }
   ],
   "source": [
    "#Write a program to count the frequency of words in a given text.\n",
    "\n",
    "text = \"Hi! I'm Ali , Ali AbuBakr. I'm working on dictionaries right now. Dictionaries are interesting\"\n",
    "words = text.split()\n",
    "word_count = {}\n",
    "\n",
    "for word in words:\n",
    "    word = word.lower()\n",
    "    if word in word_count:\n",
    "        word_count[word] += 1\n",
    "    else:\n",
    "        word_count[word] = 1\n",
    "\n",
    "print(word_count)\n",
    "    "
   ]
  },
  {
   "cell_type": "code",
   "execution_count": 17,
   "id": "aa5c398e",
   "metadata": {},
   "outputs": [
    {
     "name": "stdout",
     "output_type": "stream",
     "text": [
      "computer : 352\n",
      "smart phones : 380\n",
      "laptop : 424\n"
     ]
    }
   ],
   "source": [
    "#Implement a simple inventory system using dictionaries.\n",
    "\n",
    "inventory = {\n",
    "    'computer' : 400,\n",
    "    'smart phones' : 380,\n",
    "    'laptop' : 47\n",
    "}\n",
    "\n",
    "inventory['laptop'] += 377\n",
    "inventory['computer'] -= 48\n",
    "\n",
    "for items, quantity in inventory.items():\n",
    "    print(f\"{items} : {quantity}\")\n",
    "\n",
    "    "
   ]
  },
  {
   "cell_type": "code",
   "execution_count": 25,
   "id": "c9e1f4c2",
   "metadata": {},
   "outputs": [
    {
     "name": "stdout",
     "output_type": "stream",
     "text": [
      "Average grade is: 17.9\n"
     ]
    }
   ],
   "source": [
    "#Create a dictionary to store student grades and calculate the average grade.\n",
    "\n",
    "grades = {\n",
    "    'ali' : 21,\n",
    "    'musab' : 21,\n",
    "    'bilal' : 24,\n",
    "    'shehreen' : 1.5,\n",
    "    'alyna' : 22\n",
    "}\n",
    "\n",
    "average_grade = sum(grades.values()) / len(grades)\n",
    "print(f\"Average grade is: {average_grade}\")"
   ]
  },
  {
   "cell_type": "code",
   "execution_count": 34,
   "id": "12fef5ec",
   "metadata": {},
   "outputs": [
    {
     "name": "stdout",
     "output_type": "stream",
     "text": [
      "Total Inventory Value: $ 18560\n",
      "\n",
      "Low Stock Report:\n",
      "Keyboard: 2 in stock, Price: $30\n"
     ]
    }
   ],
   "source": [
    "#Create a dictionary to store product information: name, quantity, price. Implement functions to:\n",
    "#Add new products\n",
    "#Update product quantities\n",
    "#Calculate total inventory value\n",
    "#Generate a report of low-stock items\n",
    "\n",
    "inventory = {}\n",
    "inventory[\"Laptop\"] = {\"quantity\": 10, \"price\": 1000}\n",
    "inventory[\"Smartphone\"] = {\"quantity\": 3, \"price\": 500}\n",
    "inventory[\"Keyboard\"] = {\"quantity\": 2, \"price\": 30}\n",
    "\n",
    "inventory[\"Smartphone\"][\"quantity\"] = 17\n",
    "\n",
    "total_value = 0\n",
    "for product in inventory:\n",
    "    total_value += inventory[product][\"quantity\"] * inventory[product][\"price\"]\n",
    "\n",
    "print(\"Total Inventory Value: $\", total_value)\n",
    "\n",
    "count = 5\n",
    "print(\"\\nLow Stock Report:\")\n",
    "for product in inventory:\n",
    "    if inventory[product][\"quantity\"] <= count:\n",
    "        print(f\"{product}: {inventory[product]['quantity']} in stock, Price: ${inventory[product]['price']}\")"
   ]
  },
  {
   "cell_type": "code",
   "execution_count": 35,
   "id": "2e2915a7",
   "metadata": {},
   "outputs": [
    {
     "name": "stdout",
     "output_type": "stream",
     "text": [
      "Average Grades:\n",
      "Ali: 34.33\n",
      "Bilal: 40.33\n",
      "Musab: 40.00\n",
      "\n",
      "Math - Highest grade: Musab with 35\n",
      "Math - Lowest grade: Bilal with 28\n",
      "\n",
      "Students sorted by average grades:\n",
      "Bilal: 40.33\n",
      "Musab: 40.00\n",
      "Ali: 34.33\n"
     ]
    }
   ],
   "source": [
    "#Create a dictionary to store student information: name, grades for different subjects.\n",
    "#Calculate the average grade for each student.\n",
    "#Find the highest and lowest grades in a specific subject.\n",
    "#Sort students by their average grades.\n",
    "\n",
    "students = {\n",
    "    \"Ali\": {\"Math\": 30, \"English\": 32, \"Programming\": 41},\n",
    "    \"Bilal\": {\"Math\": 28, \"English\": 43, \"Programming\": 50},\n",
    "    \"Musab\": {\"Math\": 35, \"English\": 47, \"Programming\": 38},\n",
    "}\n",
    "\n",
    "average_grades = {}\n",
    "for student in students:\n",
    "    total = sum(students[student].values())  \n",
    "    count = len(students[student])  \n",
    "    average_grades[student] = total / count \n",
    "\n",
    "print(\"Average Grades:\")\n",
    "for student in average_grades:\n",
    "    print(f\"{student}: {average_grades[student]:.2f}\")\n",
    "\n",
    "subject = \"Math\"\n",
    "subject_grades = {}\n",
    "\n",
    "for student in students:\n",
    "    subject_grades[student] = students[student][subject]\n",
    "\n",
    "highest_grade_student = max(subject_grades, key=subject_grades.get)\n",
    "lowest_grade_student = min(subject_grades, key=subject_grades.get)\n",
    "\n",
    "print(f\"\\n{subject} - Highest grade: {highest_grade_student} with {subject_grades[highest_grade_student]}\")\n",
    "print(f\"{subject} - Lowest grade: {lowest_grade_student} with {subject_grades[lowest_grade_student]}\")\n",
    "\n",
    "\n",
    "sorted_students = sorted(average_grades.items(), key=lambda x: x[1], reverse=True)\n",
    "\n",
    "\n",
    "print(\"\\nStudents sorted by average grades:\")\n",
    "for student, avg_grade in sorted_students:\n",
    "    print(f\"{student}: {avg_grade:.2f}\")"
   ]
  },
  {
   "cell_type": "code",
   "execution_count": null,
   "id": "2ff4df15",
   "metadata": {},
   "outputs": [],
   "source": [
    "products = {\n",
    "    1: {\"name\": \"Laptop\", \"price\": 1000, \"quantity\": 10},\n",
    "    2: {\"name\": \"Phone\", \"price\": 500, \"quantity\": 20},\n",
    "    3: {\"name\": \"Tablet\", \"price\": 300, \"quantity\": 15}\n",
    "}\n",
    "\n",
    "cart = {}\n",
    "\n",
    "product_id = 1\n",
    "quantity = 2\n",
    "if product_id in products and products[product_id][\"quantity\"] >= quantity:\n",
    "    if product_id in cart:\n",
    "        cart[product_id] += quantity\n",
    "    else:\n",
    "        cart[product_id] = quantity\n",
    "    products[product_id][\"quantity\"] -= quantity\n",
    "\n",
    "product_id = 2\n",
    "quantity = 1\n",
    "if product_id in products and products[product_id][\"quantity\"] >= quantity:\n",
    "    if product_id in cart:\n",
    "        cart[product_id] += quantity\n",
    "    else:\n",
    "        cart[product_id] = quantity\n",
    "    products[product_id][\"quantity\"] -= quantity\n",
    "\n",
    "product_id = 1\n",
    "quantity = 1\n",
    "if product_id in cart and cart[product_id] >= quantity:\n",
    "    cart[product_id] -= quantity\n",
    "    products[product_id][\"quantity\"] += quantity\n",
    "    if cart[product_id] == 0:\n",
    "        del cart[product_id]\n",
    "\n",
    "total = sum(products[pid][\"price\"] * qty for pid, qty in cart.items())\n",
    "discount = 10\n",
    "tax = 5\n",
    "total -= total * (discount / 100)\n",
    "total += total * (tax / 100)\n",
    "\n",
    "print(\"Cart:\", cart)\n",
    "print(\"Total:\", total)"
   ]
  },
  {
   "cell_type": "code",
   "execution_count": null,
   "id": "eb8d91f1",
   "metadata": {},
   "outputs": [],
   "source": []
  }
 ],
 "metadata": {
  "kernelspec": {
   "display_name": "Python 3 (ipykernel)",
   "language": "python",
   "name": "python3"
  },
  "language_info": {
   "codemirror_mode": {
    "name": "ipython",
    "version": 3
   },
   "file_extension": ".py",
   "mimetype": "text/x-python",
   "name": "python",
   "nbconvert_exporter": "python",
   "pygments_lexer": "ipython3",
   "version": "3.12.4"
  }
 },
 "nbformat": 4,
 "nbformat_minor": 5
}
